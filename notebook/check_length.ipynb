{
 "cells": [
  {
   "cell_type": "code",
   "id": "initial_id",
   "metadata": {
    "collapsed": true,
    "ExecuteTime": {
     "end_time": "2024-11-18T04:30:40.826153Z",
     "start_time": "2024-11-18T04:30:28.938682Z"
    }
   },
   "source": [
    "import pandas as pd\n",
    "from ast import literal_eval\n",
    "from transformers import AutoTokenizer"
   ],
   "outputs": [],
   "execution_count": 2
  },
  {
   "metadata": {
    "ExecuteTime": {
     "end_time": "2024-11-18T04:31:02.969652Z",
     "start_time": "2024-11-18T04:30:40.827525Z"
    }
   },
   "cell_type": "code",
   "source": [
    "# 모델 변경\n",
    "tokenizer = AutoTokenizer.from_pretrained(\"Qwen/Qwen2.5-7B-Instruct\")"
   ],
   "id": "3ef2ab44825997fa",
   "outputs": [
    {
     "data": {
      "text/plain": [
       "tokenizer_config.json:   0%|          | 0.00/7.30k [00:00<?, ?B/s]"
      ],
      "application/vnd.jupyter.widget-view+json": {
       "version_major": 2,
       "version_minor": 0,
       "model_id": "daae0d6810b040888e0e1a2106e736c7"
      }
     },
     "metadata": {},
     "output_type": "display_data"
    },
    {
     "data": {
      "text/plain": [
       "vocab.json:   0%|          | 0.00/2.78M [00:00<?, ?B/s]"
      ],
      "application/vnd.jupyter.widget-view+json": {
       "version_major": 2,
       "version_minor": 0,
       "model_id": "bb193501b72d4bb9a0f2079269864fa6"
      }
     },
     "metadata": {},
     "output_type": "display_data"
    },
    {
     "data": {
      "text/plain": [
       "merges.txt:   0%|          | 0.00/1.67M [00:00<?, ?B/s]"
      ],
      "application/vnd.jupyter.widget-view+json": {
       "version_major": 2,
       "version_minor": 0,
       "model_id": "6bbebac5883a4b1f8707e6ac4aaa8bd0"
      }
     },
     "metadata": {},
     "output_type": "display_data"
    },
    {
     "data": {
      "text/plain": [
       "tokenizer.json:   0%|          | 0.00/7.03M [00:00<?, ?B/s]"
      ],
      "application/vnd.jupyter.widget-view+json": {
       "version_major": 2,
       "version_minor": 0,
       "model_id": "05d940c5ecb9482882532ffa87d2bd61"
      }
     },
     "metadata": {},
     "output_type": "display_data"
    }
   ],
   "execution_count": 3
  },
  {
   "metadata": {
    "ExecuteTime": {
     "end_time": "2024-11-18T04:31:02.974310Z",
     "start_time": "2024-11-18T04:31:02.971159Z"
    }
   },
   "cell_type": "code",
   "source": [
    "prompt_no_question = (\n",
    "    \"지문:\\n {paragraph}\\n\\n 질문:\\n {question}\\n\\n 선택지:\\n {choices}\\n\\n \"\n",
    "    \"1, 2, 3, 4, 5 중에 하나를 정답으로 고르세요.\\n 정답:\"\n",
    ")\n",
    "prompt_with_question = (\n",
    "    \"지문:\\n {paragraph}\\n\\n 질문:\\n {question}\\n\\n <보기>:\\n {question_plus}\\n\\n \"\n",
    "    \"선택지:\\n {choices}\\n\\n 1, 2, 3, 4, 5 중에 하나를 정답으로 고르세요.\\n 정답:\"\n",
    ")"
   ],
   "id": "fccbb987383bff06",
   "outputs": [],
   "execution_count": 4
  },
  {
   "metadata": {
    "ExecuteTime": {
     "end_time": "2024-11-18T04:31:02.979955Z",
     "start_time": "2024-11-18T04:31:02.976145Z"
    }
   },
   "cell_type": "code",
   "source": [
    "def parse_problems(df):\n",
    "    records = []\n",
    "    for _, row in df.iterrows():\n",
    "        problems = literal_eval(row[\"problems\"])\n",
    "        record = {\n",
    "            \"id\": row[\"id\"],\n",
    "            \"paragraph\": row[\"paragraph\"],\n",
    "            \"question\": problems[\"question\"],\n",
    "            \"choices\": problems[\"choices\"],\n",
    "            \"answer\": problems.get(\"answer\", None),\n",
    "            \"question_plus\": problems.get(\"question_plus\", None),\n",
    "        }\n",
    "        records.append(record)\n",
    "    return pd.DataFrame(records)"
   ],
   "id": "c5f61a9fcebd2636",
   "outputs": [],
   "execution_count": 5
  },
  {
   "metadata": {
    "ExecuteTime": {
     "end_time": "2024-11-18T04:31:02.984322Z",
     "start_time": "2024-11-18T04:31:02.981246Z"
    }
   },
   "cell_type": "code",
   "source": [
    "chat_template = \"\"\"\n",
    "{% if messages[0]['role'] == 'system' %}{% set system_message = messages[0]['content'] %}{% endif %}\n",
    "{% if system_message is defined %}{{ system_message }}{% endif %}\n",
    "{% for message in messages %}\n",
    "    {% set content = message['content'] %}\n",
    "    {% if message['role'] == 'user' %}{{ '<start_of_turn>user\\n' + content + '<end_of_turn>\\n<start_of_turn>model\\n' }}\n",
    "    {% elif message['role'] == 'assistant' %}{{ content + '<end_of_turn>\\n' }}\n",
    "    {% endif %}\n",
    "{% endfor %}\n",
    "\"\"\""
   ],
   "id": "962eaa494d171e68",
   "outputs": [],
   "execution_count": 6
  },
  {
   "metadata": {},
   "cell_type": "code",
   "outputs": [],
   "execution_count": null,
   "source": [
    "# 파일 경로 수정\n",
    "input_path = \"./data/train.csv\"\n",
    "output_path = \"./data/processed_train.csv\""
   ],
   "id": "ed59a10d61d70800"
  },
  {
   "metadata": {
    "ExecuteTime": {
     "end_time": "2024-11-18T04:31:08.028106Z",
     "start_time": "2024-11-18T04:31:02.985728Z"
    }
   },
   "cell_type": "code",
   "source": [
    "def calculate_input_ids_length_with_chat_template(row):\n",
    "    choices_string = \"\\n\".join([f\"{idx + 1} - {choice}\" for idx, choice in enumerate(row[\"choices\"])])\n",
    "\n",
    "    if row[\"question_plus\"]:\n",
    "        user_message = prompt_with_question.format(\n",
    "            paragraph=row[\"paragraph\"],\n",
    "            question=row[\"question\"],\n",
    "            question_plus=row[\"question_plus\"],\n",
    "            choices=choices_string,\n",
    "        )\n",
    "    else:\n",
    "        user_message = prompt_no_question.format(\n",
    "            paragraph=row[\"paragraph\"],\n",
    "            question=row[\"question\"],\n",
    "            choices=choices_string,\n",
    "        )\n",
    "\n",
    "    messages = [\n",
    "        {\"role\": \"system\", \"content\": \"지문을 읽고 질문의 답을 구하세요.\"},\n",
    "        {\"role\": \"user\", \"content\": user_message},\n",
    "        {\"role\": \"assistant\", \"content\": str(row[\"answer\"])},\n",
    "    ]\n",
    "\n",
    "    formatted_text = tokenizer.apply_chat_template(\n",
    "        messages,\n",
    "        chat_template=chat_template,\n",
    "        tools=None,  \n",
    "        tokenize=False\n",
    "    )\n",
    "\n",
    "    tokens = tokenizer(formatted_text, truncation=False, padding=False, return_overflowing_tokens=False)\n",
    "    return len(tokens[\"input_ids\"])\n",
    "\n",
    "input_df = pd.read_csv(input_path)\n",
    "\n",
    "processed_df = parse_problems(input_df)\n",
    "processed_df[\"input_ids_length\"] = processed_df.apply(calculate_input_ids_length_with_chat_template, axis=1)-1\n",
    "\n",
    "processed_df.to_csv(output_path, index=False, encoding='utf-8-sig')"
   ],
   "id": "5fc721f136fa7bae",
   "outputs": [],
   "execution_count": 7
  },
  {
   "metadata": {},
   "cell_type": "code",
   "outputs": [],
   "execution_count": null,
   "source": [
    "import matplotlib.pyplot as plt\n",
    "\n",
    "plt.figure(figsize=(10, 6))\n",
    "plt.scatter(processed_df.index, processed_df['input_ids_length'],s=3,color='navy')\n",
    "plt.axvline(x=1380, color='red', linestyle='-', linewidth=1.5)  # 빨간색 세로선\n",
    "plt.axhline(y=1024, color='red', linestyle='-', linewidth=1.5)  # 가로선\n",
    "\n",
    "plt.title('Length')\n",
    "plt.xlabel('Index')\n",
    "plt.ylabel('Input Length')\n",
    "plt.grid()\n",
    "plt.show()"
   ],
   "id": "b577978ba8b6348e"
  }
 ],
 "metadata": {
  "kernelspec": {
   "display_name": "Python 3",
   "language": "python",
   "name": "python3"
  },
  "language_info": {
   "codemirror_mode": {
    "name": "ipython",
    "version": 2
   },
   "file_extension": ".py",
   "mimetype": "text/x-python",
   "name": "python",
   "nbconvert_exporter": "python",
   "pygments_lexer": "ipython2",
   "version": "2.7.6"
  }
 },
 "nbformat": 4,
 "nbformat_minor": 5
}
